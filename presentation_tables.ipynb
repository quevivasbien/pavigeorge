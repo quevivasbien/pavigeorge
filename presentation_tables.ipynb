{
 "cells": [
  {
   "cell_type": "code",
   "execution_count": 1,
   "metadata": {},
   "outputs": [],
   "source": [
    "import pandas as pd\n",
    "import numpy as np\n",
    "import statsmodels.api as sm"
   ]
  },
  {
   "cell_type": "code",
   "execution_count": 2,
   "metadata": {},
   "outputs": [],
   "source": [
    "df_bids = pd.read_csv('employer_wage_bids.csv', index_col='employer')\n",
    "df_guesses = pd.read_csv('applicant_wage_guesses.csv', index_col='guesser')\n",
    "df_app = pd.read_csv('applicant_data_clean.csv', index_col='applicant')"
   ]
  },
  {
   "cell_type": "code",
   "execution_count": 3,
   "metadata": {},
   "outputs": [],
   "source": [
    "def make_table(fitted_models, title=None):\n",
    "    tables = []\n",
    "    for name, fitted in fitted_models.items():\n",
    "        tables.append(\n",
    "            pd.DataFrame(\n",
    "                np.stack((fitted.params, fitted.bse, fitted.pvalues), axis=1),\n",
    "                index=fitted.params.index,\n",
    "                columns = pd.MultiIndex.from_arrays([\n",
    "                    [name, name, name],\n",
    "                    ['coef.', '(s.e.)', 'p']\n",
    "                ]),\n",
    "            )\n",
    "        )\n",
    "    df = pd.concat(tables, axis=1)\n",
    "    df = df.loc[[i for i in df.index if not i.startswith('fe')]]\n",
    "    sty = df.style.format(\n",
    "        subset=pd.IndexSlice[:, pd.IndexSlice[:, 'coef.']],\n",
    "        formatter=lambda x: f'{x:.2g}',\n",
    "        na_rep = ''\n",
    "    ).format(\n",
    "        subset=pd.IndexSlice[:, pd.IndexSlice[:, '(s.e.)']],\n",
    "        formatter=lambda x: f'({x:.2g})',\n",
    "        na_rep = ''\n",
    "    ).format(\n",
    "        subset=pd.IndexSlice[:, pd.IndexSlice[:, 'p']],\n",
    "        formatter=lambda x: f'{x:.2f}',\n",
    "        na_rep = ''\n",
    "    ).format_index(\n",
    "        escape=\"latex\", axis=0\n",
    "    )\n",
    "    \n",
    "    return sty.to_latex(\n",
    "        column_format = 'l' + '|'.join(['rlc']*len(fitted_models)),\n",
    "        multicol_align='p{12em}',\n",
    "        hrules = True,\n",
    "        caption = title,\n",
    "        position_float='centering',\n",
    "    )"
   ]
  },
  {
   "cell_type": "code",
   "execution_count": 4,
   "metadata": {},
   "outputs": [],
   "source": [
    "def hyp1_3_table(promote_type = 1):\n",
    "    data = df_bids[\n",
    "        (df_bids['treatment'] == 1) & (df_bids['promote_type_seen'] == promote_type)\n",
    "    ]\n",
    "    X = sm.add_constant(\n",
    "        data[f'app_promote{promote_type}']\n",
    "    )\n",
    "    X.columns=['const', 'Self-promotion']\n",
    "\n",
    "    fitted1 = sm.OLS(data['bid'], X).fit(\n",
    "        cov_type='cluster', cov_kwds={'groups': data.index}\n",
    "    )\n",
    "\n",
    "    data = df_bids[\n",
    "        (df_bids['treatment'] == 2) & (df_bids['promote_type_seen'] == promote_type)\n",
    "    ]\n",
    "    X = pd.DataFrame(\n",
    "        sm.add_constant(\n",
    "            np.stack(\n",
    "                (\n",
    "                    data[f'app_promote{promote_type}'],\n",
    "                    data['app_is_female'],\n",
    "                    data['app_is_female'] * data[f'app_promote{promote_type}']\n",
    "                ),\n",
    "                axis=1\n",
    "            )\n",
    "        ),\n",
    "        columns = ['const', 'Self-evaluation', 'Female', 'Self-evaluation x Female'],\n",
    "        index = data.index\n",
    "    )\n",
    "    fitted2 = sm.OLS(data['bid'], X).fit(\n",
    "        cov_type='cluster', cov_kwds={'groups': data.index}\n",
    "    )\n",
    "\n",
    "    data = df_bids[\n",
    "        (df_bids['treatment'] == 3) & (df_bids['promote_type_seen'] == promote_type)\n",
    "    ]\n",
    "    X = pd.DataFrame(\n",
    "        sm.add_constant(\n",
    "            np.concatenate(\n",
    "                (\n",
    "                    np.stack(\n",
    "                        (\n",
    "                            data[f'app_promote{promote_type}'],\n",
    "                            data['app_is_female'],\n",
    "                            data['app_is_female'] * data[f'app_promote{promote_type}']\n",
    "                        ),\n",
    "                        axis=1\n",
    "                    ),\n",
    "                    pd.get_dummies(data['app_eval_correct']).to_numpy()[:, :-1]\n",
    "                ),\n",
    "                axis=1\n",
    "            )\n",
    "        ),\n",
    "        columns = [\n",
    "            'const', 'Self-evaluation', 'Female', 'Self-evaluation x Female',\n",
    "        ] + [f\"fe{i}\" for i in range(9)],\n",
    "        index = data.index\n",
    "    )\n",
    "    fitted3 = sm.OLS(data['bid'], X).fit(\n",
    "        cov_type='cluster', cov_kwds={'groups': data.index}\n",
    "    )\n",
    "\n",
    "    return make_table(\n",
    "        {\n",
    "            'Self-evaluation': fitted1,\n",
    "            'Self-evaluation + gender': fitted2,\n",
    "            'Self-evaluation + gender + performance*': fitted3\n",
    "        },\n",
    "        title = f'Employer bids, with {\"first\" if promote_type == 1 else \"second\"} self-evaluation type',\n",
    "    )\n",
    "    "
   ]
  },
  {
   "cell_type": "code",
   "execution_count": 5,
   "metadata": {},
   "outputs": [
    {
     "name": "stdout",
     "output_type": "stream",
     "text": [
      "\\begin{table}\n",
      "\\centering\n",
      "\\caption{Employer bids, with first self-evaluation type}\n",
      "\\begin{tabular}{lrlc|rlc|rlc}\n",
      "\\toprule\n",
      " & \\multicolumn{3}{p{12em}}{Self-evaluation} & \\multicolumn{3}{p{12em}}{Self-evaluation + gender} & \\multicolumn{3}{p{12em}}{Self-evaluation + gender + performance*} \\\\\n",
      " & coef. & (s.e.) & p & coef. & (s.e.) & p & coef. & (s.e.) & p \\\\\n",
      "\\midrule\n",
      "const & 0.22 & (0.14) & 0.12 & 0.29 & (0.2) & 0.15 & 1.4 & (0.22) & 0.00 \\\\\n",
      "Self-promotion & 0.2 & (0.029) & 0.00 &  &  &  &  &  &  \\\\\n",
      "Self-evaluation &  &  &  & 0.15 & (0.045) & 0.00 & 0.07 & (0.04) & 0.08 \\\\\n",
      "Female &  &  &  & 0.29 & (0.27) & 0.29 & 0.45 & (0.26) & 0.08 \\\\\n",
      "Self-evaluation x Female &  &  &  & -0.07 & (0.06) & 0.24 & -0.075 & (0.057) & 0.19 \\\\\n",
      "\\bottomrule\n",
      "\\end{tabular}\n",
      "\\end{table}\n",
      "\n"
     ]
    }
   ],
   "source": [
    "print(hyp1_3_table(1))"
   ]
  },
  {
   "cell_type": "code",
   "execution_count": 6,
   "metadata": {},
   "outputs": [
    {
     "name": "stdout",
     "output_type": "stream",
     "text": [
      "\\begin{table}\n",
      "\\centering\n",
      "\\caption{Employer bids, with second self-evaluation type}\n",
      "\\begin{tabular}{lrlc|rlc|rlc}\n",
      "\\toprule\n",
      " & \\multicolumn{3}{p{12em}}{Self-evaluation} & \\multicolumn{3}{p{12em}}{Self-evaluation + gender} & \\multicolumn{3}{p{12em}}{Self-evaluation + gender + performance*} \\\\\n",
      " & coef. & (s.e.) & p & coef. & (s.e.) & p & coef. & (s.e.) & p \\\\\n",
      "\\midrule\n",
      "const & 0.41 & (0.19) & 0.03 & 0.044 & (0.17) & 0.80 & 1.1 & (0.52) & 0.04 \\\\\n",
      "Self-promotion & 0.01 & (0.002) & 0.00 &  &  &  &  &  &  \\\\\n",
      "Self-evaluation &  &  &  & 0.012 & (0.0023) & 0.00 & -0.00024 & (0.0027) & 0.93 \\\\\n",
      "Female &  &  &  & 0.17 & (0.21) & 0.43 & -0.033 & (0.3) & 0.91 \\\\\n",
      "Self-evaluation x Female &  &  &  & -0.0012 & (0.0028) & 0.67 & 0.0005 & (0.0033) & 0.88 \\\\\n",
      "\\bottomrule\n",
      "\\end{tabular}\n",
      "\\end{table}\n",
      "\n"
     ]
    }
   ],
   "source": [
    "print(hyp1_3_table(2))"
   ]
  },
  {
   "cell_type": "code",
   "execution_count": 7,
   "metadata": {},
   "outputs": [],
   "source": [
    "def get_hyp7_fit(treatment=None, promote_type=1):\n",
    "    data = df_app if treatment is None else df_app[df_app['treatment'] == treatment]\n",
    "    X = pd.DataFrame(\n",
    "        sm.add_constant(\n",
    "            np.concatenate(\n",
    "                (\n",
    "                    data['female'].to_numpy().reshape(-1, 1),\n",
    "                    pd.get_dummies(data['eval_correct']).to_numpy()[:, :-1]\n",
    "                ),\n",
    "                axis=1\n",
    "            )\n",
    "        ),\n",
    "        columns = ['const', 'Female'] + [f\"fe{i}\" for i in range(9)],\n",
    "        index = data.index\n",
    "    )\n",
    "    return sm.OLS(data[f'promote{promote_type}'], X).fit(\n",
    "        cov_type='HC1'\n",
    "    )\n",
    "\n",
    "def hyp7_table(promote_type=1):\n",
    "    fits = [get_hyp7_fit(t, promote_type) for t in [None, 1, 2, 3]]\n",
    "    return make_table(\n",
    "        {\n",
    "            'All treatments': fits[0],\n",
    "            'Self-evaluation': fits[2],\n",
    "            'Self-evaluation + gender': fits[2],\n",
    "            'Self-evaluation + gender + performance*': fits[3]\n",
    "        },\n",
    "        title = f'Applicant self-evaluation, with {\"first\" if promote_type == 1 else \"second\"} self-evaluation type',\n",
    "    )"
   ]
  },
  {
   "cell_type": "code",
   "execution_count": 8,
   "metadata": {},
   "outputs": [
    {
     "name": "stdout",
     "output_type": "stream",
     "text": [
      "\\begin{table}\n",
      "\\centering\n",
      "\\caption{Applicant self-evaluation, with first self-evaluation type}\n",
      "\\begin{tabular}{lrlc|rlc|rlc|rlc}\n",
      "\\toprule\n",
      " & \\multicolumn{3}{p{12em}}{All treatments} & \\multicolumn{3}{p{12em}}{Self-evaluation} & \\multicolumn{3}{p{12em}}{Self-evaluation + gender} & \\multicolumn{3}{p{12em}}{Self-evaluation + gender + performance*} \\\\\n",
      " & coef. & (s.e.) & p & coef. & (s.e.) & p & coef. & (s.e.) & p & coef. & (s.e.) & p \\\\\n",
      "\\midrule\n",
      "const & 5.2 & (0.21) & 0.00 & 5.6 & (0.36) & 0.00 & 5.6 & (0.36) & 0.00 & 5.1 & (0.13) & 0.00 \\\\\n",
      "Female & 0.12 & (0.12) & 0.31 & 0.073 & (0.22) & 0.74 & 0.073 & (0.22) & 0.74 & -0.15 & (0.23) & 0.50 \\\\\n",
      "\\bottomrule\n",
      "\\end{tabular}\n",
      "\\end{table}\n",
      "\n"
     ]
    }
   ],
   "source": [
    "print(hyp7_table(1))"
   ]
  },
  {
   "cell_type": "code",
   "execution_count": 9,
   "metadata": {},
   "outputs": [
    {
     "name": "stdout",
     "output_type": "stream",
     "text": [
      "\\begin{table}\n",
      "\\centering\n",
      "\\caption{Applicant self-evaluation, with second self-evaluation type}\n",
      "\\begin{tabular}{lrlc|rlc|rlc|rlc}\n",
      "\\toprule\n",
      " & \\multicolumn{3}{p{12em}}{All treatments} & \\multicolumn{3}{p{12em}}{Self-evaluation} & \\multicolumn{3}{p{12em}}{Self-evaluation + gender} & \\multicolumn{3}{p{12em}}{Self-evaluation + gender + performance*} \\\\\n",
      " & coef. & (s.e.) & p & coef. & (s.e.) & p & coef. & (s.e.) & p & coef. & (s.e.) & p \\\\\n",
      "\\midrule\n",
      "const & 92 & (2) & 0.00 & 92 & (4.9) & 0.00 & 92 & (4.9) & 0.00 & 96 & (4.9) & 0.00 \\\\\n",
      "Female & 3.2 & (2.3) & 0.16 & 4.3 & (4) & 0.28 & 4.3 & (4) & 0.28 & -1.8 & (4.5) & 0.68 \\\\\n",
      "\\bottomrule\n",
      "\\end{tabular}\n",
      "\\end{table}\n",
      "\n"
     ]
    }
   ],
   "source": [
    "print(hyp7_table(2))"
   ]
  },
  {
   "cell_type": "code",
   "execution_count": 10,
   "metadata": {},
   "outputs": [],
   "source": [
    "def hyp4_fit(promote_type=1):\n",
    "    data = df_guesses[(df_guesses['treatment'] == 1) & (df_guesses['promote_type_seen'] == promote_type)]\n",
    "    X = pd.DataFrame(\n",
    "            sm.add_constant(\n",
    "            np.stack(\n",
    "                (\n",
    "                    data[f'other_promote{promote_type}'],\n",
    "                    data['guesser_is_female'],\n",
    "                    data['guesser_is_female'] * data[f'other_promote{promote_type}']\n",
    "                ),\n",
    "                axis=1\n",
    "            )\n",
    "        ),\n",
    "        columns = ['const', 'Self-evaluation', 'Female guesser', 'Self-evaluation x Female guesser'],\n",
    "        index = data.index\n",
    "    )\n",
    "    return sm.OLS(data['wage_guess'], X).fit(\n",
    "        cov_type='cluster', cov_kwds={'groups': data.index}\n",
    "    )\n",
    "\n",
    "def hyp4_table():\n",
    "    return make_table(\n",
    "        {\n",
    "            'First self-promotion type': hyp4_fit(1),\n",
    "            'Second self-promotion type': hyp4_fit(2),\n",
    "        },\n",
    "        title = 'Wage guesses (self-evaluation-only treatment)'\n",
    "    )"
   ]
  },
  {
   "cell_type": "code",
   "execution_count": 11,
   "metadata": {},
   "outputs": [
    {
     "name": "stdout",
     "output_type": "stream",
     "text": [
      "\\begin{table}\n",
      "\\centering\n",
      "\\caption{Wage guesses (self-evaluation-only treatment)}\n",
      "\\begin{tabular}{lrlc|rlc}\n",
      "\\toprule\n",
      " & \\multicolumn{3}{p{12em}}{First self-promotion type} & \\multicolumn{3}{p{12em}}{Second self-promotion type} \\\\\n",
      " & coef. & (s.e.) & p & coef. & (s.e.) & p \\\\\n",
      "\\midrule\n",
      "const & 0.7 & (0.059) & 0.00 & 0.64 & (0.049) & 0.00 \\\\\n",
      "Self-evaluation & 0.12 & (0.012) & 0.00 & 0.0091 & (0.00062) & 0.00 \\\\\n",
      "Female guesser & 0.15 & (0.14) & 0.29 & 0.23 & (0.098) & 0.02 \\\\\n",
      "Self-evaluation x Female guesser & 0.0024 & (0.03) & 0.94 & -0.0017 & (0.0016) & 0.29 \\\\\n",
      "\\bottomrule\n",
      "\\end{tabular}\n",
      "\\end{table}\n",
      "\n"
     ]
    }
   ],
   "source": [
    "print(hyp4_table())"
   ]
  },
  {
   "cell_type": "code",
   "execution_count": 12,
   "metadata": {},
   "outputs": [],
   "source": [
    "def hyp5_6_table(female = 1, promote_type = 1):\n",
    "    data = df_guesses[\n",
    "        (df_guesses['treatment'] == 2) & (df_guesses['promote_type_seen'] == promote_type) & (df_guesses['guesser_is_female'] == female)\n",
    "    ]\n",
    "    X = pd.DataFrame(\n",
    "        sm.add_constant(\n",
    "            np.stack(\n",
    "                (\n",
    "                    data[f'other_promote{promote_type}'],\n",
    "                    data['other_is_female'],\n",
    "                    data['other_is_female'] * data[f'other_promote{promote_type}']\n",
    "                ),\n",
    "                axis=1\n",
    "            ),\n",
    "        ),\n",
    "        columns = ['const', 'Self-evaluation', 'Female', 'Self-evaluation x Female'],\n",
    "        index = data.index\n",
    "    )\n",
    "\n",
    "    fitted1 = sm.OLS(data['wage_guess'], X).fit(\n",
    "        cov_type='cluster', cov_kwds={'groups': data.index}\n",
    "    )\n",
    "\n",
    "    data = df_guesses[(df_guesses['treatment'] == 3) & (df_guesses['promote_type_seen'] == promote_type) & df_guesses['guesser_is_female'] == female]\n",
    "    X = pd.DataFrame(\n",
    "        sm.add_constant(\n",
    "            np.concatenate(\n",
    "                (\n",
    "                    np.stack(\n",
    "                        (\n",
    "                            data['other_promote1'],\n",
    "                            data['other_is_female'],\n",
    "                            data['other_is_female'] * data['other_promote1']\n",
    "                        ),\n",
    "                        axis=1\n",
    "                    ),\n",
    "                    pd.get_dummies(data['other_eval_correct']).to_numpy()[:, :-1]\n",
    "                ),\n",
    "                axis=1\n",
    "            )\n",
    "        ),\n",
    "        columns = [\n",
    "            'const', 'Self-evaluation', 'Female', 'Self-evaluation x Female'\n",
    "        ] + [f\"fe{i}\" for i in range(10)],\n",
    "        index = data.index\n",
    "    )\n",
    "    fitted2 = sm.OLS(data['wage_guess'], X).fit(\n",
    "        cov_type='cluster', cov_kwds={'groups': data.index}\n",
    "    )\n",
    "\n",
    "    return make_table(\n",
    "        {\n",
    "            'Self-evaluation + gender': fitted1,\n",
    "            'Self-evaluation + gender + performance*': fitted2\n",
    "        },\n",
    "        title = f'Wage guesses, with {\"first\" if promote_type == 1 else \"second\"} self-evaluation type and {\"female\" if female == 1 else \"male\"} guessers only',\n",
    "    )"
   ]
  },
  {
   "cell_type": "code",
   "execution_count": 13,
   "metadata": {},
   "outputs": [
    {
     "name": "stdout",
     "output_type": "stream",
     "text": [
      "\\begin{table}\n",
      "\\centering\n",
      "\\caption{Wage guesses, with first self-evaluation type and female guessers only}\n",
      "\\begin{tabular}{lrlc|rlc}\n",
      "\\toprule\n",
      " & \\multicolumn{3}{p{12em}}{Self-evaluation + gender} & \\multicolumn{3}{p{12em}}{Self-evaluation + gender + performance*} \\\\\n",
      " & coef. & (s.e.) & p & coef. & (s.e.) & p \\\\\n",
      "\\midrule\n",
      "const & 0.65 & (0.16) & 0.00 & 1.3 & (0.13) & 0.00 \\\\\n",
      "Self-evaluation & 0.093 & (0.036) & 0.01 & 0.092 & (0.032) & 0.00 \\\\\n",
      "Female & -0.31 & (0.23) & 0.18 & 0.3 & (0.18) & 0.10 \\\\\n",
      "Self-evaluation x Female & 0.11 & (0.049) & 0.03 & -0.053 & (0.048) & 0.27 \\\\\n",
      "\\bottomrule\n",
      "\\end{tabular}\n",
      "\\end{table}\n",
      "\n"
     ]
    }
   ],
   "source": [
    "print(hyp5_6_table(1, 1))"
   ]
  },
  {
   "cell_type": "code",
   "execution_count": 14,
   "metadata": {},
   "outputs": [
    {
     "name": "stdout",
     "output_type": "stream",
     "text": [
      "\\begin{table}\n",
      "\\centering\n",
      "\\caption{Wage guesses, with second self-evaluation type and female guessers only}\n",
      "\\begin{tabular}{lrlc|rlc}\n",
      "\\toprule\n",
      " & \\multicolumn{3}{p{12em}}{Self-evaluation + gender} & \\multicolumn{3}{p{12em}}{Self-evaluation + gender + performance*} \\\\\n",
      " & coef. & (s.e.) & p & coef. & (s.e.) & p \\\\\n",
      "\\midrule\n",
      "const & 0.68 & (0.11) & 0.00 & 1.7 & (0.16) & 0.00 \\\\\n",
      "Self-evaluation & 0.0075 & (0.0018) & 0.00 & -0.019 & (0.03) & 0.53 \\\\\n",
      "Female & -0.35 & (0.13) & 0.00 & 0.13 & (0.18) & 0.47 \\\\\n",
      "Self-evaluation x Female & 0.0059 & (0.0019) & 0.00 & -0.0049 & (0.045) & 0.91 \\\\\n",
      "\\bottomrule\n",
      "\\end{tabular}\n",
      "\\end{table}\n",
      "\n"
     ]
    }
   ],
   "source": [
    "print(hyp5_6_table(1, 2))"
   ]
  },
  {
   "cell_type": "code",
   "execution_count": 15,
   "metadata": {},
   "outputs": [
    {
     "name": "stdout",
     "output_type": "stream",
     "text": [
      "\\begin{table}\n",
      "\\centering\n",
      "\\caption{Wage guesses, with first self-evaluation type and male guessers only}\n",
      "\\begin{tabular}{lrlc|rlc}\n",
      "\\toprule\n",
      " & \\multicolumn{3}{p{12em}}{Self-evaluation + gender} & \\multicolumn{3}{p{12em}}{Self-evaluation + gender + performance*} \\\\\n",
      " & coef. & (s.e.) & p & coef. & (s.e.) & p \\\\\n",
      "\\midrule\n",
      "const & 0.84 & (0.11) & 0.00 & 1.1 & (0.039) & 0.00 \\\\\n",
      "Self-evaluation & 0.12 & (0.027) & 0.00 & 0.043 & (0.0085) & 0.00 \\\\\n",
      "Female & -0.0047 & (0.12) & 0.97 & 0.001 & (0.047) & 0.98 \\\\\n",
      "Self-evaluation x Female & -0.021 & (0.03) & 0.50 & -0.008 & (0.011) & 0.47 \\\\\n",
      "\\bottomrule\n",
      "\\end{tabular}\n",
      "\\end{table}\n",
      "\n"
     ]
    }
   ],
   "source": [
    "print(hyp5_6_table(0, 1))"
   ]
  },
  {
   "cell_type": "code",
   "execution_count": 16,
   "metadata": {},
   "outputs": [
    {
     "name": "stdout",
     "output_type": "stream",
     "text": [
      "\\begin{table}\n",
      "\\centering\n",
      "\\caption{Wage guesses, with second self-evaluation type and male guessers only}\n",
      "\\begin{tabular}{lrlc|rlc}\n",
      "\\toprule\n",
      " & \\multicolumn{3}{p{12em}}{Self-evaluation + gender} & \\multicolumn{3}{p{12em}}{Self-evaluation + gender + performance*} \\\\\n",
      " & coef. & (s.e.) & p & coef. & (s.e.) & p \\\\\n",
      "\\midrule\n",
      "const & 0.76 & (0.08) & 0.00 & 1.1 & (0.038) & 0.00 \\\\\n",
      "Self-evaluation & 0.0087 & (0.0014) & 0.00 & 0.048 & (0.0086) & 0.00 \\\\\n",
      "Female & -0.011 & (0.16) & 0.95 & 0.0056 & (0.05) & 0.91 \\\\\n",
      "Self-evaluation x Female & -0.0009 & (0.0023) & 0.70 & -0.01 & (0.013) & 0.42 \\\\\n",
      "\\bottomrule\n",
      "\\end{tabular}\n",
      "\\end{table}\n",
      "\n"
     ]
    }
   ],
   "source": [
    "print(hyp5_6_table(0, 2))\n"
   ]
  },
  {
   "cell_type": "code",
   "execution_count": 17,
   "metadata": {},
   "outputs": [
    {
     "name": "stdout",
     "output_type": "stream",
     "text": [
      "(*) Includes fixed effects on performance\n",
      "\n",
      "Standard errors robust to clustering\n"
     ]
    }
   ],
   "source": [
    "print('\\n(*) Includes fixed effects on performance')\n",
    "print('\\nStandard errors robust to clustering')"
   ]
  }
 ],
 "metadata": {
  "kernelspec": {
   "display_name": "Python 3.9.7 ('base')",
   "language": "python",
   "name": "python3"
  },
  "language_info": {
   "codemirror_mode": {
    "name": "ipython",
    "version": 3
   },
   "file_extension": ".py",
   "mimetype": "text/x-python",
   "name": "python",
   "nbconvert_exporter": "python",
   "pygments_lexer": "ipython3",
   "version": "3.9.7"
  },
  "orig_nbformat": 4,
  "vscode": {
   "interpreter": {
    "hash": "bb3230d44c24da28d1a190c1d3fa0386abbbe5a39bc2b02ab7d99de5c0cecc5e"
   }
  }
 },
 "nbformat": 4,
 "nbformat_minor": 2
}
