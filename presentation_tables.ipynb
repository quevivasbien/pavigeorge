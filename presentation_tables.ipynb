{
 "cells": [
  {
   "cell_type": "code",
   "execution_count": 1,
   "metadata": {},
   "outputs": [],
   "source": [
    "import pandas as pd\n",
    "import numpy as np\n",
    "import statsmodels.api as sm\n",
    "import re"
   ]
  },
  {
   "cell_type": "code",
   "execution_count": 2,
   "metadata": {},
   "outputs": [],
   "source": [
    "df_bids = pd.read_csv('employer_wage_bids.csv', index_col='employer')\n",
    "df_bids['bid'] = df_bids['bid'] * 100\n",
    "df_guesses = pd.read_csv('applicant_wage_guesses.csv', index_col='guesser')\n",
    "df_guesses['wage_guess'] = df_guesses['wage_guess'] * 100\n",
    "df_app = pd.read_csv('applicant_data_clean.csv', index_col='applicant')"
   ]
  },
  {
   "cell_type": "code",
   "execution_count": 3,
   "metadata": {},
   "outputs": [],
   "source": [
    "def signif_level(pvalue):\n",
    "    if pvalue < 0.01:\n",
    "        return \"***\"\n",
    "    elif pvalue < 0.05:\n",
    "        return \"**\"\n",
    "    elif pvalue < 0.1:\n",
    "        return \"*\"\n",
    "    else:\n",
    "        return \"\"\n",
    "\n",
    "def make_table(fitted_models, title=None, notes=None, colwidth=8):\n",
    "    tables = []\n",
    "    for name, fitted in fitted_models.items():\n",
    "        tables.append(\n",
    "            pd.DataFrame(\n",
    "                [\n",
    "                    rf\"\\shortstack{{{param:.3g} ({bse:.2g}){signif_level(p)}}}\"\n",
    "                    for param, bse, p in zip(fitted.params, fitted.bse, fitted.pvalues)\n",
    "                ],\n",
    "                index=fitted.params.index,\n",
    "                columns = [name.replace('+', r'\\newline +').replace('*', r'$^\\dagger$')],\n",
    "            )\n",
    "        )\n",
    "    df = pd.concat(tables, axis=1)\n",
    "    df = df.loc[[i for i in df.index if not i.startswith('fe')]]\n",
    "    sty = df.style.format(\n",
    "        na_rep = ''\n",
    "    ).format_index(\n",
    "        escape=\"latex\", axis=0\n",
    "    )\n",
    "    \n",
    "    ncols = len(fitted_models)\n",
    "    tab = sty.to_latex(\n",
    "        column_format = 'l' + f'p{{{colwidth}em}}'*ncols,\n",
    "        hrules = True,\n",
    "        caption = title,\n",
    "        position_float='centering',\n",
    "    )\n",
    "\n",
    "    if notes is not None:\n",
    "        tab = re.sub(\n",
    "            r'(?=\\n\\\\end{tabular})',\n",
    "            \"\\n\" + rf'\\\\multicolumn{{{ncols}}}{{p{{{10 + 5 * ncols}em}}}}{{\\\\textit{{Notes}}: ' + r' \\\\newline\\\\quad '.join(notes) + '}', tab)\n",
    "    return tab"
   ]
  },
  {
   "cell_type": "code",
   "execution_count": 4,
   "metadata": {},
   "outputs": [],
   "source": [
    "def hyp1_3_table(promote_type = 1):\n",
    "    data = df_bids[\n",
    "        (df_bids['treatment'] == 1) & (df_bids['promote_type_seen'] == promote_type)\n",
    "    ]\n",
    "    X = sm.add_constant(\n",
    "        data[f'app_promote{promote_type}']\n",
    "    )\n",
    "    X.columns=['const', 'Self-evaluation']\n",
    "\n",
    "    fitted1 = sm.OLS(data['bid'], X).fit(\n",
    "        cov_type='cluster', cov_kwds={'groups': data.index}\n",
    "    )\n",
    "\n",
    "    data = df_bids[\n",
    "        (df_bids['treatment'] == 2) & (df_bids['promote_type_seen'] == promote_type)\n",
    "    ]\n",
    "    X = pd.DataFrame(\n",
    "        sm.add_constant(\n",
    "            np.stack(\n",
    "                (\n",
    "                    data[f'app_promote{promote_type}'],\n",
    "                    data['app_is_female'],\n",
    "                    data['app_is_female'] * data[f'app_promote{promote_type}']\n",
    "                ),\n",
    "                axis=1\n",
    "            )\n",
    "        ),\n",
    "        columns = ['const', 'Self-evaluation', 'Female', 'Self-evaluation x Female'],\n",
    "        index = data.index\n",
    "    )\n",
    "    fitted2 = sm.OLS(data['bid'], X).fit(\n",
    "        cov_type='cluster', cov_kwds={'groups': data.index}\n",
    "    )\n",
    "\n",
    "    data = df_bids[\n",
    "        (df_bids['treatment'] == 3) & (df_bids['promote_type_seen'] == promote_type)\n",
    "    ]\n",
    "    X = pd.DataFrame(\n",
    "        sm.add_constant(\n",
    "            np.concatenate(\n",
    "                (\n",
    "                    np.stack(\n",
    "                        (\n",
    "                            data[f'app_promote{promote_type}'],\n",
    "                            data['app_is_female'],\n",
    "                            data['app_is_female'] * data[f'app_promote{promote_type}']\n",
    "                        ),\n",
    "                        axis=1\n",
    "                    ),\n",
    "                    pd.get_dummies(data['app_eval_correct']).to_numpy()[:, :-1]\n",
    "                ),\n",
    "                axis=1\n",
    "            )\n",
    "        ),\n",
    "        columns = [\n",
    "            'const', 'Self-evaluation', 'Female', 'Self-evaluation x Female',\n",
    "        ] + [f\"fe{i}\" for i in range(9)],\n",
    "        index = data.index\n",
    "    )\n",
    "    fitted3 = sm.OLS(data['bid'], X).fit(\n",
    "        cov_type='cluster', cov_kwds={'groups': data.index}\n",
    "    )\n",
    "\n",
    "    return make_table(\n",
    "        {\n",
    "            'Self-evaluation': fitted1,\n",
    "            r'Self-evaluation + gender': fitted2,\n",
    "            r'Self-evaluation + gender + performance*': fitted3\n",
    "        },\n",
    "        title = f'Employer bids, with {\"first\" if promote_type == 1 else \"second\"} self-evaluation type',\n",
    "        notes = ['*$p<0.1$, **$p<0.05$, ***$p<0.01$.', 'Standard errors clustered by employer.', '(†) indicates inclusion of performance fixed effects.']\n",
    "    )\n",
    "    "
   ]
  },
  {
   "cell_type": "code",
   "execution_count": 5,
   "metadata": {},
   "outputs": [
    {
     "name": "stdout",
     "output_type": "stream",
     "text": [
      "\\begin{table}\n",
      "\\centering\n",
      "\\caption{Employer bids, with first self-evaluation type}\n",
      "\\begin{tabular}{lp{8em}p{8em}p{8em}}\n",
      "\\toprule\n",
      " & Self-evaluation & Self-evaluation \\newline + gender & Self-evaluation \\newline + gender \\newline + performance$^\\dagger$ \\\\\n",
      "\\midrule\n",
      "const & \\shortstack{21.7 (14)} & \\shortstack{29.1 (20)} & \\shortstack{142 (22)***} \\\\\n",
      "Self-evaluation & \\shortstack{19.8 (2.9)***} & \\shortstack{15.5 (4.5)***} & \\shortstack{7.01 (4)*} \\\\\n",
      "Female &  & \\shortstack{28.9 (27)} & \\shortstack{45 (26)*} \\\\\n",
      "Self-evaluation x Female &  & \\shortstack{-7.03 (6)} & \\shortstack{-7.47 (5.7)} \\\\\n",
      "\\bottomrule\n",
      "\\multicolumn{3}{p{25em}}{\\textit{Notes}: *$p<0.1$, **$p<0.05$, ***$p<0.01$. \\newline\\quad Standard errors clustered by employer. \\newline\\quad (†) indicates inclusion of performance fixed effects.}\n",
      "\\end{tabular}\n",
      "\\end{table}\n",
      "\n"
     ]
    }
   ],
   "source": [
    "print(hyp1_3_table(1))"
   ]
  },
  {
   "cell_type": "code",
   "execution_count": 6,
   "metadata": {},
   "outputs": [
    {
     "name": "stdout",
     "output_type": "stream",
     "text": [
      "\\begin{table}\n",
      "\\centering\n",
      "\\caption{Employer bids, with second self-evaluation type}\n",
      "\\begin{tabular}{lp{8em}p{8em}p{8em}}\n",
      "\\toprule\n",
      " & Self-evaluation & Self-evaluation \\newline + gender & Self-evaluation \\newline + gender \\newline + performance$^\\dagger$ \\\\\n",
      "\\midrule\n",
      "const & \\shortstack{40.8 (19)**} & \\shortstack{4.39 (17)} & \\shortstack{107 (52)**} \\\\\n",
      "Self-evaluation & \\shortstack{1 (0.2)***} & \\shortstack{1.23 (0.23)***} & \\shortstack{-0.0243 (0.27)} \\\\\n",
      "Female &  & \\shortstack{16.8 (21)} & \\shortstack{-3.29 (30)} \\\\\n",
      "Self-evaluation x Female &  & \\shortstack{-0.122 (0.28)} & \\shortstack{0.0497 (0.33)} \\\\\n",
      "\\bottomrule\n",
      "\\multicolumn{3}{p{25em}}{\\textit{Notes}: *$p<0.1$, **$p<0.05$, ***$p<0.01$. \\newline\\quad Standard errors clustered by employer. \\newline\\quad (†) indicates inclusion of performance fixed effects.}\n",
      "\\end{tabular}\n",
      "\\end{table}\n",
      "\n"
     ]
    }
   ],
   "source": [
    "print(hyp1_3_table(2))"
   ]
  },
  {
   "cell_type": "code",
   "execution_count": 7,
   "metadata": {},
   "outputs": [],
   "source": [
    "def get_hyp7_fit(treatment=None, promote_type=1):\n",
    "    data = df_app if treatment is None else df_app[df_app['treatment'] == treatment]\n",
    "    X = pd.DataFrame(\n",
    "        sm.add_constant(\n",
    "            np.concatenate(\n",
    "                (\n",
    "                    data['female'].to_numpy().reshape(-1, 1),\n",
    "                    pd.get_dummies(data['eval_correct']).to_numpy()[:, :-1]\n",
    "                ),\n",
    "                axis=1\n",
    "            )\n",
    "        ),\n",
    "        columns = ['const', 'Female'] + [f\"fe{i}\" for i in range(9)],\n",
    "        index = data.index\n",
    "    )\n",
    "    return sm.OLS(data[f'promote{promote_type}'], X).fit(\n",
    "        cov_type='HC1'\n",
    "    )\n",
    "\n",
    "def hyp7_table(promote_type=1):\n",
    "    fits = [get_hyp7_fit(t, promote_type) for t in [None, 1, 2, 3]]\n",
    "    return make_table(\n",
    "        {\n",
    "            'All treatments': fits[0],\n",
    "            'Self-evaluation': fits[2],\n",
    "            'Self-evaluation + gender': fits[2],\n",
    "            'Self-evaluation + gender + performance*': fits[3]\n",
    "        },\n",
    "        title = f'Applicant self-evaluation, with {\"first\" if promote_type == 1 else \"second\"} self-evaluation type',\n",
    "        notes = ['*$p<0.1$, **$p<0.05$, ***$p<0.01$.', 'Standard errors clustered by applicant.', '(†) indicates inclusion of performance fixed effects.'],\n",
    "    )"
   ]
  },
  {
   "cell_type": "code",
   "execution_count": 8,
   "metadata": {},
   "outputs": [
    {
     "name": "stdout",
     "output_type": "stream",
     "text": [
      "\\begin{table}\n",
      "\\centering\n",
      "\\caption{Applicant self-evaluation, with first self-evaluation type}\n",
      "\\begin{tabular}{lp{8em}p{8em}p{8em}p{8em}}\n",
      "\\toprule\n",
      " & All treatments & Self-evaluation & Self-evaluation \\newline + gender & Self-evaluation \\newline + gender \\newline + performance$^\\dagger$ \\\\\n",
      "\\midrule\n",
      "const & \\shortstack{5.17 (0.21)***} & \\shortstack{5.59 (0.36)***} & \\shortstack{5.59 (0.36)***} & \\shortstack{5.08 (0.13)***} \\\\\n",
      "Female & \\shortstack{0.117 (0.12)} & \\shortstack{0.0728 (0.22)} & \\shortstack{0.0728 (0.22)} & \\shortstack{-0.152 (0.23)} \\\\\n",
      "\\bottomrule\n",
      "\\multicolumn{4}{p{30em}}{\\textit{Notes}: *$p<0.1$, **$p<0.05$, ***$p<0.01$. \\newline\\quad Standard errors clustered by applicant. \\newline\\quad (†) indicates inclusion of performance fixed effects.}\n",
      "\\end{tabular}\n",
      "\\end{table}\n",
      "\n"
     ]
    }
   ],
   "source": [
    "print(hyp7_table(1))"
   ]
  },
  {
   "cell_type": "code",
   "execution_count": 9,
   "metadata": {},
   "outputs": [
    {
     "name": "stdout",
     "output_type": "stream",
     "text": [
      "\\begin{table}\n",
      "\\centering\n",
      "\\caption{Applicant self-evaluation, with second self-evaluation type}\n",
      "\\begin{tabular}{lp{8em}p{8em}p{8em}p{8em}}\n",
      "\\toprule\n",
      " & All treatments & Self-evaluation & Self-evaluation \\newline + gender & Self-evaluation \\newline + gender \\newline + performance$^\\dagger$ \\\\\n",
      "\\midrule\n",
      "const & \\shortstack{92.5 (2)***} & \\shortstack{92.3 (4.9)***} & \\shortstack{92.3 (4.9)***} & \\shortstack{95.9 (4.9)***} \\\\\n",
      "Female & \\shortstack{3.18 (2.3)} & \\shortstack{4.32 (4)} & \\shortstack{4.32 (4)} & \\shortstack{-1.83 (4.5)} \\\\\n",
      "\\bottomrule\n",
      "\\multicolumn{4}{p{30em}}{\\textit{Notes}: *$p<0.1$, **$p<0.05$, ***$p<0.01$. \\newline\\quad Standard errors clustered by applicant. \\newline\\quad (†) indicates inclusion of performance fixed effects.}\n",
      "\\end{tabular}\n",
      "\\end{table}\n",
      "\n"
     ]
    }
   ],
   "source": [
    "print(hyp7_table(2))"
   ]
  },
  {
   "cell_type": "code",
   "execution_count": 10,
   "metadata": {},
   "outputs": [],
   "source": [
    "def hyp4_fit(promote_type=1):\n",
    "    data = df_guesses[(df_guesses['treatment'] == 1) & (df_guesses['promote_type_seen'] == promote_type)]\n",
    "    X = pd.DataFrame(\n",
    "            sm.add_constant(\n",
    "            np.stack(\n",
    "                (\n",
    "                    data[f'other_promote{promote_type}'],\n",
    "                    data['guesser_is_female'],\n",
    "                    data['guesser_is_female'] * data[f'other_promote{promote_type}']\n",
    "                ),\n",
    "                axis=1\n",
    "            )\n",
    "        ),\n",
    "        columns = ['const', 'Self-evaluation', 'Female guesser', 'Self-evaluation x Female guesser'],\n",
    "        index = data.index\n",
    "    )\n",
    "    return sm.OLS(data['wage_guess'], X).fit(\n",
    "        cov_type='cluster', cov_kwds={'groups': data.index}\n",
    "    )\n",
    "\n",
    "def hyp4_table():\n",
    "    return make_table(\n",
    "        {\n",
    "            r'Second \\newline self-evaluation type': hyp4_fit(2),\n",
    "        },\n",
    "        title = 'Wage guesses (self-evaluation-only treatment)',\n",
    "        notes = ['*$p<0.1$, **$p<0.05$, ***$p<0.01$.', 'Standard errors clustered by guesser.',],\n",
    "        colwidth = 12,\n",
    "    )"
   ]
  },
  {
   "cell_type": "code",
   "execution_count": 11,
   "metadata": {},
   "outputs": [
    {
     "name": "stdout",
     "output_type": "stream",
     "text": [
      "\\begin{table}\n",
      "\\centering\n",
      "\\caption{Wage guesses (self-evaluation-only treatment)}\n",
      "\\begin{tabular}{lp{12em}}\n",
      "\\toprule\n",
      " & Second \\newline self-evaluation type \\\\\n",
      "\\midrule\n",
      "const & \\shortstack{63.9 (4.9)***} \\\\\n",
      "Self-evaluation & \\shortstack{0.912 (0.062)***} \\\\\n",
      "Female guesser & \\shortstack{23.5 (9.8)**} \\\\\n",
      "Self-evaluation x Female guesser & \\shortstack{-0.168 (0.16)} \\\\\n",
      "\\bottomrule\n",
      "\\multicolumn{1}{p{15em}}{\\textit{Notes}: *$p<0.1$, **$p<0.05$, ***$p<0.01$. \\newline\\quad Standard errors clustered by guesser.}\n",
      "\\end{tabular}\n",
      "\\end{table}\n",
      "\n"
     ]
    }
   ],
   "source": [
    "print(hyp4_table())"
   ]
  },
  {
   "cell_type": "code",
   "execution_count": 12,
   "metadata": {},
   "outputs": [],
   "source": [
    "def hyp5_6_table(female = 1, promote_type = 1):\n",
    "    data = df_guesses[\n",
    "        (df_guesses['treatment'] == 2) & (df_guesses['promote_type_seen'] == promote_type) & (df_guesses['guesser_is_female'] == female)\n",
    "    ]\n",
    "    X = pd.DataFrame(\n",
    "        sm.add_constant(\n",
    "            np.stack(\n",
    "                (\n",
    "                    data[f'other_promote{promote_type}'],\n",
    "                    data['other_is_female'],\n",
    "                    data['other_is_female'] * data[f'other_promote{promote_type}']\n",
    "                ),\n",
    "                axis=1\n",
    "            ),\n",
    "        ),\n",
    "        columns = ['const', 'Self-evaluation', 'Female', 'Self-evaluation x Female'],\n",
    "        index = data.index\n",
    "    )\n",
    "\n",
    "    fitted1 = sm.OLS(data['wage_guess'], X).fit(\n",
    "        cov_type='cluster', cov_kwds={'groups': data.index}\n",
    "    )\n",
    "\n",
    "    data = df_guesses[(df_guesses['treatment'] == 3) & (df_guesses['promote_type_seen'] == promote_type) & df_guesses['guesser_is_female'] == female]\n",
    "    X = pd.DataFrame(\n",
    "        sm.add_constant(\n",
    "            np.concatenate(\n",
    "                (\n",
    "                    np.stack(\n",
    "                        (\n",
    "                            data['other_promote1'],\n",
    "                            data['other_is_female'],\n",
    "                            data['other_is_female'] * data['other_promote1']\n",
    "                        ),\n",
    "                        axis=1\n",
    "                    ),\n",
    "                    pd.get_dummies(data['other_eval_correct']).to_numpy()[:, :-1]\n",
    "                ),\n",
    "                axis=1\n",
    "            )\n",
    "        ),\n",
    "        columns = [\n",
    "            'const', 'Self-evaluation', 'Female', 'Self-evaluation x Female'\n",
    "        ] + [f\"fe{i}\" for i in range(10)],\n",
    "        index = data.index\n",
    "    )\n",
    "    fitted2 = sm.OLS(data['wage_guess'], X).fit(\n",
    "        cov_type='cluster', cov_kwds={'groups': data.index}\n",
    "    )\n",
    "\n",
    "    return make_table(\n",
    "        {\n",
    "            'Self-evaluation + gender': fitted1,\n",
    "            'Self-evaluation + gender + performance*': fitted2\n",
    "        },\n",
    "        title = f'Wage guesses, with {\"first\" if promote_type == 1 else \"second\"} self-evaluation type and {\"female\" if female == 1 else \"male\"} guessers only',\n",
    "        notes = ['*$p<0.1$, **$p<0.05$, ***$p<0.01$.', 'Standard errors clustered by guesser.', '(†) indicates inclusion of performance fixed effects.'],\n",
    "    )"
   ]
  },
  {
   "cell_type": "code",
   "execution_count": 13,
   "metadata": {},
   "outputs": [
    {
     "name": "stdout",
     "output_type": "stream",
     "text": [
      "\\begin{table}\n",
      "\\centering\n",
      "\\caption{Wage guesses, with first self-evaluation type and female guessers only}\n",
      "\\begin{tabular}{lp{8em}p{8em}}\n",
      "\\toprule\n",
      " & Self-evaluation \\newline + gender & Self-evaluation \\newline + gender \\newline + performance$^\\dagger$ \\\\\n",
      "\\midrule\n",
      "const & \\shortstack{65 (16)***} & \\shortstack{132 (13)***} \\\\\n",
      "Self-evaluation & \\shortstack{9.26 (3.6)***} & \\shortstack{9.25 (3.2)***} \\\\\n",
      "Female & \\shortstack{-31.3 (23)} & \\shortstack{29.9 (18)} \\\\\n",
      "Self-evaluation x Female & \\shortstack{10.6 (4.9)**} & \\shortstack{-5.31 (4.8)} \\\\\n",
      "\\bottomrule\n",
      "\\multicolumn{2}{p{20em}}{\\textit{Notes}: *$p<0.1$, **$p<0.05$, ***$p<0.01$. \\newline\\quad Standard errors clustered by guesser. \\newline\\quad (†) indicates inclusion of performance fixed effects.}\n",
      "\\end{tabular}\n",
      "\\end{table}\n",
      "\n"
     ]
    }
   ],
   "source": [
    "print(hyp5_6_table(1, 1))"
   ]
  },
  {
   "cell_type": "code",
   "execution_count": 14,
   "metadata": {},
   "outputs": [
    {
     "name": "stdout",
     "output_type": "stream",
     "text": [
      "\\begin{table}\n",
      "\\centering\n",
      "\\caption{Wage guesses, with second self-evaluation type and female guessers only}\n",
      "\\begin{tabular}{lp{8em}p{8em}}\n",
      "\\toprule\n",
      " & Self-evaluation \\newline + gender & Self-evaluation \\newline + gender \\newline + performance$^\\dagger$ \\\\\n",
      "\\midrule\n",
      "const & \\shortstack{68.2 (11)***} & \\shortstack{173 (16)***} \\\\\n",
      "Self-evaluation & \\shortstack{0.755 (0.18)***} & \\shortstack{-1.9 (3)} \\\\\n",
      "Female & \\shortstack{-35.4 (13)***} & \\shortstack{12.9 (18)} \\\\\n",
      "Self-evaluation x Female & \\shortstack{0.589 (0.19)***} & \\shortstack{-0.491 (4.5)} \\\\\n",
      "\\bottomrule\n",
      "\\multicolumn{2}{p{20em}}{\\textit{Notes}: *$p<0.1$, **$p<0.05$, ***$p<0.01$. \\newline\\quad Standard errors clustered by guesser. \\newline\\quad (†) indicates inclusion of performance fixed effects.}\n",
      "\\end{tabular}\n",
      "\\end{table}\n",
      "\n"
     ]
    }
   ],
   "source": [
    "print(hyp5_6_table(1, 2))"
   ]
  },
  {
   "cell_type": "code",
   "execution_count": 15,
   "metadata": {},
   "outputs": [
    {
     "name": "stdout",
     "output_type": "stream",
     "text": [
      "\\begin{table}\n",
      "\\centering\n",
      "\\caption{Wage guesses, with first self-evaluation type and male guessers only}\n",
      "\\begin{tabular}{lp{8em}p{8em}}\n",
      "\\toprule\n",
      " & Self-evaluation \\newline + gender & Self-evaluation \\newline + gender \\newline + performance$^\\dagger$ \\\\\n",
      "\\midrule\n",
      "const & \\shortstack{83.9 (11)***} & \\shortstack{114 (3.9)***} \\\\\n",
      "Self-evaluation & \\shortstack{11.8 (2.7)***} & \\shortstack{4.35 (0.85)***} \\\\\n",
      "Female & \\shortstack{-0.467 (12)} & \\shortstack{0.1 (4.7)} \\\\\n",
      "Self-evaluation x Female & \\shortstack{-2.06 (3)} & \\shortstack{-0.804 (1.1)} \\\\\n",
      "\\bottomrule\n",
      "\\multicolumn{2}{p{20em}}{\\textit{Notes}: *$p<0.1$, **$p<0.05$, ***$p<0.01$. \\newline\\quad Standard errors clustered by guesser. \\newline\\quad (†) indicates inclusion of performance fixed effects.}\n",
      "\\end{tabular}\n",
      "\\end{table}\n",
      "\n"
     ]
    }
   ],
   "source": [
    "print(hyp5_6_table(0, 1))"
   ]
  },
  {
   "cell_type": "code",
   "execution_count": 16,
   "metadata": {},
   "outputs": [
    {
     "name": "stdout",
     "output_type": "stream",
     "text": [
      "\\begin{table}\n",
      "\\centering\n",
      "\\caption{Wage guesses, with second self-evaluation type and male guessers only}\n",
      "\\begin{tabular}{lp{8em}p{8em}}\n",
      "\\toprule\n",
      " & Self-evaluation \\newline + gender & Self-evaluation \\newline + gender \\newline + performance$^\\dagger$ \\\\\n",
      "\\midrule\n",
      "const & \\shortstack{76.3 (8)***} & \\shortstack{113 (3.8)***} \\\\\n",
      "Self-evaluation & \\shortstack{0.873 (0.14)***} & \\shortstack{4.85 (0.86)***} \\\\\n",
      "Female & \\shortstack{-1.06 (16)} & \\shortstack{0.555 (5)} \\\\\n",
      "Self-evaluation x Female & \\shortstack{-0.0898 (0.23)} & \\shortstack{-1.01 (1.3)} \\\\\n",
      "\\bottomrule\n",
      "\\multicolumn{2}{p{20em}}{\\textit{Notes}: *$p<0.1$, **$p<0.05$, ***$p<0.01$. \\newline\\quad Standard errors clustered by guesser. \\newline\\quad (†) indicates inclusion of performance fixed effects.}\n",
      "\\end{tabular}\n",
      "\\end{table}\n",
      "\n"
     ]
    }
   ],
   "source": [
    "print(hyp5_6_table(0, 2))"
   ]
  }
 ],
 "metadata": {
  "kernelspec": {
   "display_name": "Python 3.9.7 ('base')",
   "language": "python",
   "name": "python3"
  },
  "language_info": {
   "codemirror_mode": {
    "name": "ipython",
    "version": 3
   },
   "file_extension": ".py",
   "mimetype": "text/x-python",
   "name": "python",
   "nbconvert_exporter": "python",
   "pygments_lexer": "ipython3",
   "version": "3.9.7"
  },
  "orig_nbformat": 4,
  "vscode": {
   "interpreter": {
    "hash": "bb3230d44c24da28d1a190c1d3fa0386abbbe5a39bc2b02ab7d99de5c0cecc5e"
   }
  }
 },
 "nbformat": 4,
 "nbformat_minor": 2
}
